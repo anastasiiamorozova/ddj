{
 "cells": [
  {
   "cell_type": "code",
   "execution_count": 1,
   "metadata": {},
   "outputs": [],
   "source": [
    "import pandas as pd"
   ]
  },
  {
   "cell_type": "code",
   "execution_count": 2,
   "metadata": {},
   "outputs": [
    {
     "data": {
      "text/html": [
       "<div>\n",
       "<style scoped>\n",
       "    .dataframe tbody tr th:only-of-type {\n",
       "        vertical-align: middle;\n",
       "    }\n",
       "\n",
       "    .dataframe tbody tr th {\n",
       "        vertical-align: top;\n",
       "    }\n",
       "\n",
       "    .dataframe thead th {\n",
       "        text-align: right;\n",
       "    }\n",
       "</style>\n",
       "<table border=\"1\" class=\"dataframe\">\n",
       "  <thead>\n",
       "    <tr style=\"text-align: right;\">\n",
       "      <th></th>\n",
       "      <th>Timestamp,Age,Gender,Income, Occupation,Fav_Pub,WTS,Freq,Prim_Imp,Sec_Imp,Stratum,Lifestyle,Occasions</th>\n",
       "    </tr>\n",
       "  </thead>\n",
       "  <tbody>\n",
       "    <tr>\n",
       "      <th>0</th>\n",
       "      <td>2017/02/25 10:52:03 PM GMT+4,19,Male,100000,St...</td>\n",
       "    </tr>\n",
       "    <tr>\n",
       "      <th>1</th>\n",
       "      <td>2017/02/25 10:53:19 PM GMT+4,19,Female,50000,S...</td>\n",
       "    </tr>\n",
       "    <tr>\n",
       "      <th>2</th>\n",
       "      <td>2017/02/25 10:54:05 PM GMT+4,20,Male,100000,St...</td>\n",
       "    </tr>\n",
       "    <tr>\n",
       "      <th>3</th>\n",
       "      <td>2017/02/25 10:55:09 PM GMT+4,18,Male,0,Student...</td>\n",
       "    </tr>\n",
       "    <tr>\n",
       "      <th>4</th>\n",
       "      <td>2017/02/25 10:55:38 PM GMT+4,19,Female,130000,...</td>\n",
       "    </tr>\n",
       "    <tr>\n",
       "      <th>...</th>\n",
       "      <td>...</td>\n",
       "    </tr>\n",
       "    <tr>\n",
       "      <th>170</th>\n",
       "      <td>2017/03/03 8:50:35 AM GMT+4,19,Female,10000,St...</td>\n",
       "    </tr>\n",
       "    <tr>\n",
       "      <th>171</th>\n",
       "      <td>2017/03/03 9:08:33 AM GMT+4,20,Female,0,Studen...</td>\n",
       "    </tr>\n",
       "    <tr>\n",
       "      <th>172</th>\n",
       "      <td>2017/03/03 8:59:05 PM GMT+4,20,Female,80000,St...</td>\n",
       "    </tr>\n",
       "    <tr>\n",
       "      <th>173</th>\n",
       "      <td>2017/03/04 3:32:37 AM GMT+4,19,Male,0,Student,...</td>\n",
       "    </tr>\n",
       "    <tr>\n",
       "      <th>174</th>\n",
       "      <td>2017/03/05 9:45:11 PM GMT+4,22,Female,120000,S...</td>\n",
       "    </tr>\n",
       "  </tbody>\n",
       "</table>\n",
       "<p>175 rows × 1 columns</p>\n",
       "</div>"
      ],
      "text/plain": [
       "    Timestamp,Age,Gender,Income, Occupation,Fav_Pub,WTS,Freq,Prim_Imp,Sec_Imp,Stratum,Lifestyle,Occasions\n",
       "0    2017/02/25 10:52:03 PM GMT+4,19,Male,100000,St...                                                   \n",
       "1    2017/02/25 10:53:19 PM GMT+4,19,Female,50000,S...                                                   \n",
       "2    2017/02/25 10:54:05 PM GMT+4,20,Male,100000,St...                                                   \n",
       "3    2017/02/25 10:55:09 PM GMT+4,18,Male,0,Student...                                                   \n",
       "4    2017/02/25 10:55:38 PM GMT+4,19,Female,130000,...                                                   \n",
       "..                                                 ...                                                   \n",
       "170  2017/03/03 8:50:35 AM GMT+4,19,Female,10000,St...                                                   \n",
       "171  2017/03/03 9:08:33 AM GMT+4,20,Female,0,Studen...                                                   \n",
       "172  2017/03/03 8:59:05 PM GMT+4,20,Female,80000,St...                                                   \n",
       "173  2017/03/04 3:32:37 AM GMT+4,19,Male,0,Student,...                                                   \n",
       "174  2017/03/05 9:45:11 PM GMT+4,22,Female,120000,S...                                                   \n",
       "\n",
       "[175 rows x 1 columns]"
      ]
     },
     "execution_count": 2,
     "metadata": {},
     "output_type": "execute_result"
    }
   ],
   "source": [
    "df = pd.read_csv('armenian_pubs - armenian_pubs.csv', sep=';')\n",
    "df"
   ]
  }
 ],
 "metadata": {
  "kernelspec": {
   "display_name": "Python 3.10.5 64-bit",
   "language": "python",
   "name": "python3"
  },
  "language_info": {
   "codemirror_mode": {
    "name": "ipython",
    "version": 3
   },
   "file_extension": ".py",
   "mimetype": "text/x-python",
   "name": "python",
   "nbconvert_exporter": "python",
   "pygments_lexer": "ipython3",
   "version": "3.10.5"
  },
  "orig_nbformat": 4,
  "vscode": {
   "interpreter": {
    "hash": "aee8b7b246df8f9039afb4144a1f6fd8d2ca17a180786b69acc140d282b71a49"
   }
  }
 },
 "nbformat": 4,
 "nbformat_minor": 2
}
